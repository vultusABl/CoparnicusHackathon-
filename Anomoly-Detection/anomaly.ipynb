{
 "metadata": {
  "language_info": {
   "codemirror_mode": {
    "name": "ipython",
    "version": 3
   },
   "file_extension": ".py",
   "mimetype": "text/x-python",
   "name": "python",
   "nbconvert_exporter": "python",
   "pygments_lexer": "ipython3",
   "version": "3.6.9-final"
  },
  "orig_nbformat": 2,
  "kernelspec": {
   "name": "python36964bitenvvenv185a48df2fa744e8944213e48bad143f",
   "display_name": "Python 3.6.9 64-bit ('env': venv)"
  }
 },
 "nbformat": 4,
 "nbformat_minor": 2,
 "cells": [
  {
   "cell_type": "code",
   "execution_count": 1,
   "metadata": {},
   "outputs": [],
   "source": [
    "import rasterio as rio\n",
    "import matplotlib.pyplot as plt\n",
    "import matplotlib as mpl\n",
    "import numpy"
   ]
  },
  {
   "cell_type": "code",
   "execution_count": 1,
   "metadata": {},
   "outputs": [],
   "source": [
    "#read_band Function reads tif files(tif files are the ) and \n",
    "def read_band(band):\n",
    "    with rio.open(band) as src:\n",
    "        band = src.read(1).astype('float64')\n",
    "    return band"
   ]
  },
  {
   "cell_type": "code",
   "execution_count": 4,
   "metadata": {},
   "outputs": [],
   "source": [
    "def generatepng_ph(values):\n",
    "    cmap = mpl.colors.ListedColormap([\"#A50026\", \"#D73027\", \"#F46D43\", \"#FDAE61\", \"#FEE08B\", \"#FFFFBF\", \"#D9EF8B\", \"#A6D96A\", \"#66BD63\", \"#1A9850\", \"#006837\"])\n",
    "    bounds = [0, 0.1, 0.2, 0.3, 0.4, 0.5, 0.6, 0.7, 0.8, 0.9, 1]\n",
    "    norm = mpl.colors.BoundaryNorm(bounds, cmap.N)\n",
    "    plt.imshow(values, cmap=cmap, norm=norm)\n",
    "    plt.axis('off')\n",
    "    plt.show()\n",
    "    return\n",
    "def generatepng_annomaly(values):\n",
    "    cmap = mpl.colors.ListedColormap([\"#A50026\",\"#000000\", \"#006837\"])\n",
    "    bounds = [-1,-0.0001,1]\n",
    "    norm = mpl.colors.BoundaryNorm(bounds, cmap.N)\n",
    "    plt.imshow(values, cmap=cmap, norm=norm)\n",
    "    plt.axis('off')\n",
    "    plt.show()\n",
    "    return"
   ]
  },
  {
   "cell_type": "code",
   "execution_count": 5,
   "metadata": {},
   "outputs": [],
   "source": [
    "date1 = \"/home/chaitanya/vultus/research/copernicus/data/2019-06-11_msavi2.tif\"\n",
    "date2 = \"/home/chaitanya/vultus/research/copernicus/data/2019-06-14_msavi2.tif\"\n",
    "date3 = \"/home/chaitanya/vultus/research/copernicus/data/2019-06-21_msavi2.tif\"\n",
    "val1 = read_band(date1)\n",
    "val2 = read_band(date2)\n",
    "val3 = read_band(date3)"
   ]
  },
  {
   "cell_type": "code",
   "execution_count": 6,
   "metadata": {},
   "outputs": [],
   "source": [
    "change1 = val2 - val1\n",
    "change2 = val3 - val2\n"
   ]
  },
  {
   "cell_type": "code",
   "execution_count": 7,
   "metadata": {},
   "outputs": [
    {
     "output_type": "display_data",
     "data": {
      "text/plain": "<Figure size 432x288 with 1 Axes>",
      "image/svg+xml": "<?xml version=\"1.0\" encoding=\"utf-8\" standalone=\"no\"?>\n<!DOCTYPE svg PUBLIC \"-//W3C//DTD SVG 1.1//EN\"\n  \"http://www.w3.org/Graphics/SVG/1.1/DTD/svg11.dtd\">\n<!-- Created with matplotlib (https://matplotlib.org/) -->\n<svg height=\"231.84pt\" version=\"1.1\" viewBox=\"0 0 203.883429 231.84\" width=\"203.883429pt\" xmlns=\"http://www.w3.org/2000/svg\" xmlns:xlink=\"http://www.w3.org/1999/xlink\">\n <defs>\n  <style type=\"text/css\">\n*{stroke-linecap:butt;stroke-linejoin:round;}\n  </style>\n </defs>\n <g id=\"figure_1\">\n  <g id=\"patch_1\">\n   <path d=\"M -0 231.84 \nL 203.883429 231.84 \nL 203.883429 0 \nL -0 0 \nz\n\" style=\"fill:none;\"/>\n  </g>\n  <g id=\"axes_1\">\n   <g clip-path=\"url(#p06ee0af67c)\">\n    <image height=\"218\" id=\"imageb9aa140889\" transform=\"scale(1 -1)translate(0 -218)\" width=\"190\" x=\"7.2\" xlink:href=\"data:image/png;base64,\niVBORw0KGgoAAAANSUhEUgAAAL4AAADaCAYAAAAYEfjRAAAABHNCSVQICAgIfAhkiAAAA/pJREFUeJzt3cFxG0cARFHI5QSUhFNwME5AISkBBeNoHIJ9sjliASZAYHdn5793VKmKOHT1NGdB4HIBAFjWl0N/+rff//7w/3z/89jXyJJ+OfoFwBEEn6T9Z8Q98+YzTCIeoPFJEnyS1pk6t5hAXKHxSRJ8kvaZAXvPm0eZQzkanyTBJ0nwSbLxH+F3gWVofJIEn6Ttju5V5s2jzKFT0PgkCT5Jps5eTKCpaHySBJ+k1x6/5s3zTKJdaHySBJ8kU+eMzKGnaXySBJ+k549M82ZO5tD/0vgkCT5Jpk6RGaTxaRJ8kkwdrlt8Dml8kgSfpMePM9OGf514Dml8kgSfJMEnycZnG5Pvf41PkuCTdN9xZN6whQPnkMYnSfBJMnWY20ZzSOOTJPgk3T5GzBvO5MFJpPFJEnySTB3Wc8fs0fgkCT5JPx8JB86bH9//uvrvf3z7uvMrYSk3Zo/GJ0nwSfr16BcAmxrn+zB7ND5Jgk/SlxkfVI03PG512ILGJ0nwSRJ8kqbc+LA1jU+S4JMk+CQJPkmCT5I3qdHhTWrUCT5Jgk+S4JMk+CTd/OCdH5ff/nsPj/fEc1o+ZQHeCD5JT3/bhEnE1EwdeCP4JO3zPaP+youjmDrwRvBJOuwr1d9zO8TL+EYUuE7wSZpm6tzNDREfMXXgOsEnSfBJOt/Gv4ffA3ru2PUjjU+S4JO05tS5hzm0FlMHPib4JAk+SYJPkuCT5GPCOacHb3He0/gkCT5Jgk+S4JMk+CS13qvj/Tnn9uRNzkjjkyT4JAk+SYJPkuCTtP6tjpucc3vhTc5I45Mk+CQJPkmCT5LgkyT4JAk+SYJPkuCTtOaTW09rz22jp7UjjU+S4JMk+CQJPkmCT5LPzmQOO9zkjDQ+SYJP0jpTx0MrHqDxSRJ8ktaZOpzPzjc5I41PkuCT5G3JHMfUgX0JPklrTp2R2TMvUwf2JfgkrT91bjGBjnHgvBlpfJIEnyTBJ2mKvTUd+387Nj4cR/BJmuLYmZrZ87xJ5s1I45Mk+CT508NrzJvlaXySBJ8kU4dtTHiTM9L4JAk+SYJPkuCTJPgkudW5XDywCtL4JAk+SaYOrzH5A6v3ND5Jgk+S4JMk+CQJPkmCT9KprqBeytPa553sCnOk8UkSfJIEnyTBJ0nwSRJ8kgSfJMEn6bQPID7FQ6vnnfih1UjjkyT4JC1xbD3NBLqfqQPnJfgkLXFs7aY6iRaZNyONT5Lgk7TcEXa4FeeQqQNrEHySljvCpnW2CbTgvBlpfJIEn6Slj7NTmmUSmTqwHsEnSfBJWnrHLWuP3wNsfFiP4JO09HGW9pk5tPi8GWl8kgSfpMzRxuDWDDJ1YG2CDwAAa/kHWGGh8SRtTH4AAAAASUVORK5CYII=\" y=\"-6.64\"/>\n   </g>\n  </g>\n </g>\n <defs>\n  <clipPath id=\"p06ee0af67c\">\n   <rect height=\"217.44\" width=\"189.483429\" x=\"7.2\" y=\"7.2\"/>\n  </clipPath>\n </defs>\n</svg>\n",
      "image/png": "[encoded data removed]"
     },
     "metadata": {
      "needs_background": "light"
     }
    }
   ],
   "source": [
    "generatepng_annomaly(change1)"
   ]
  },
  {
   "cell_type": "code",
   "execution_count": 8,
   "metadata": {},
   "outputs": [
    {
     "output_type": "display_data",
     "data": {
      "text/plain": "<Figure size 432x288 with 1 Axes>",
      "image/svg+xml": "<?xml version=\"1.0\" encoding=\"utf-8\" standalone=\"no\"?>\n<!DOCTYPE svg PUBLIC \"-//W3C//DTD SVG 1.1//EN\"\n  \"http://www.w3.org/Graphics/SVG/1.1/DTD/svg11.dtd\">\n<!-- Created with matplotlib (https://matplotlib.org/) -->\n<svg height=\"231.84pt\" version=\"1.1\" viewBox=\"0 0 203.883429 231.84\" width=\"203.883429pt\" xmlns=\"http://www.w3.org/2000/svg\" xmlns:xlink=\"http://www.w3.org/1999/xlink\">\n <defs>\n  <style type=\"text/css\">\n*{stroke-linecap:butt;stroke-linejoin:round;}\n  </style>\n </defs>\n <g id=\"figure_1\">\n  <g id=\"patch_1\">\n   <path d=\"M -0 231.84 \nL 203.883429 231.84 \nL 203.883429 0 \nL -0 0 \nz\n\" style=\"fill:none;\"/>\n  </g>\n  <g id=\"axes_1\">\n   <g clip-path=\"url(#pb38458b944)\">\n    <image height=\"218\" id=\"image317b42e447\" transform=\"scale(1 -1)translate(0 -218)\" width=\"190\" x=\"7.2\" xlink:href=\"data:image/png;base64,\niVBORw0KGgoAAAANSUhEUgAAAL4AAADaCAYAAAAYEfjRAAAABHNCSVQICAgIfAhkiAAABBxJREFUeJzt3dFx20YYhVE54wbSRFpIMWrAJbkBN5UmUkLy5mw0ogWKILDY75xnjYiHO/9e7gLEywsAwLK+nPnhP17++Oejv3l9+evUa2RNv519AXAGwSfp8Bqxpd58hkrEPUx8kgSfpGWqzi0qEO8x8UkSfJIOqQFH15t7qUM9Jj5Jgk+S4JOk49/Bd4F1mPgkCT5JT1u6V6k391KHrsHEJ0nwSVJ1DqICzcXEJ0nwSdp3+f3258968+P737v+6wqV6BgmPkmCT9Kuy6qdnGOoQ48z8UkSfJIeXzLt5ExJHfo1E58kwSfp69kXwHP8aodNDTLxiRJ8klSdIG+iMfGJEnyS7q46b5fJ1/2uhYmsXodMfJIEnyTBJ+nujuaee7aYvf+b+CQJPkmblqM9683rt9/f/wz38uecWYdMfJIEn6TDq85I7eEjz6pDJj5Jgk/SzWXk6IOqsfaoOtzr3kpk4pMk+CR59JAljNV8S+0x8UkSfJL+tyScecuxwyye4VbtMfFJEnySTt3VuVVvYC+3dntMfJIEn6Qvszw8vrX22OVhDyY+SYJPkuCTNE3HH7k3n2cz8UkSfJKmrDrwbCY+SYJPkkcPyXCTGnmCT5LgkyT4JAk+SdP8diY8g19ZgIHgk/Tw2yZUImam6sBA8Ek65D2j6hBnUXVgIPgknfZK9bfUIfbijShwg+CTNE3V2Uol4iOqDtwg+CQJPkmX6/hb+B7Qs6XXj0x8kgSfpCWrzhbq0FpUHdhA8EkSfJIEnyTBJ8nPhHNJ9+7ivGXikyT4JAk+SYJPkuCTlLpXx/051/boTs7IxCdJ8EkSfJIEnyTBJ2n5XR07Ode2507OyMQnSfBJEnySBJ8kwSdJ8EkSfJIEnyTBJ2nJk1untdf2rNPakYlPkuCTJPgkCT5Jgk+S385kCkfs5IxMfJIEn6Rlqo5DK+5h4pMk+CQtU3W4nqN3ckYmPkmCT5LbkjmNqgMHE3ySlqw6I7VnXqoOHEzwSVq+6tyiAp3jzHozMvFJEnySBJ+kKfrWbPT/59Hx4USCT9IUy87M1J7HzVJvRiY+SYJPkkcP36HerM/EJ0nwSVJ1eIoZd3JGJj5Jgk+S4JMk+CQJPkl2dV4cWBWZ+CQJPkmqDruY/cDqLROfJMEnSfBJEnySBJ8kwSfpUltQe3Ja+7irbWGOTHySBJ8kwSdJ8EkSfJIEnyTBJ0nwSbrsAcRnOLR63JUPrUYmPkmCT9ISy9ajVKDtVB24MMEnaYll6yjVSrRKvRmZ+CQJPknLLWFnW7EOqTqwCMEnabklbFZXq0Ar1puRiU+S4JO09HJ2RbNUIlUHFiT4JAk+SUv3uFUd8T1Ax4cFCT5JSy9nZZ+pQ6vXm5GJT5Lgk5RZ2vjPrRqk6sDiBB8AANbyLwJ5s5MDG/1OAAAAAElFTkSuQmCC\" y=\"-6.64\"/>\n   </g>\n  </g>\n </g>\n <defs>\n  <clipPath id=\"pb38458b944\">\n   <rect height=\"217.44\" width=\"189.483429\" x=\"7.2\" y=\"7.2\"/>\n  </clipPath>\n </defs>\n</svg>\n",
      "image/png": "[encoded data removed]"
     },
     "metadata": {
      "needs_background": "light"
     }
    }
   ],
   "source": [
    "generatepng_annomaly(change2)"
   ]
  },
  {
   "cell_type": "code",
   "execution_count": null,
   "metadata": {},
   "outputs": [],
   "source": []
  }
 ]
}