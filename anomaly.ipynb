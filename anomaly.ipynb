{
 "metadata": {
  "language_info": {
   "codemirror_mode": {
    "name": "ipython",
    "version": 3
   },
   "file_extension": ".py",
   "mimetype": "text/x-python",
   "name": "python",
   "nbconvert_exporter": "python",
   "pygments_lexer": "ipython3",
   "version": "3.6.9-final"
  },
  "orig_nbformat": 2,
  "kernelspec": {
   "name": "python36964bitenvvenv185a48df2fa744e8944213e48bad143f",
   "display_name": "Python 3.6.9 64-bit ('env': venv)"
  }
 },
 "nbformat": 4,
 "nbformat_minor": 2,
 "cells": [
  {
   "cell_type": "markdown",
   "metadata": {},
   "source": [
    "### Python modules used for geospatial data.<br/>   \n",
    "[RasterIo](https://rasterio.readthedocs.io/): Rasterio reads and writes GeoTIFF formats to organize and store gridded raster datasets such as satellite imagery and terrain models. and provides a Python API based on Numpy N-dimensional arrays and GeoJSON.<br/>   \n",
    "[Numpy](https://numpy.org/): NumPy is the fundamental package for scientific computing in Python Geospatial libraries return the Satellite images in Numpy N-dimensional arrays format.<br/>  \n",
    "[Matplotlib](https://matplotlib.org/)  Matplotlib is a comprehensive library for creating static, animated, and interactive visualizations in Python."
   ]
  },
  {
   "cell_type": "code",
   "execution_count": null,
   "metadata": {},
   "outputs": [],
   "source": [
    "import rasterio as rio\n",
    "import matplotlib.pyplot as plt\n",
    "import matplotlib as mpl\n",
    "import numpy as np"
   ]
  },
  {
   "cell_type": "markdown",
   "metadata": {},
   "source": [
    "### Sentinel 2 Bands Description.    \n",
    "|    Sentinel2 Bands     | Central Wavelength(μm)           | Resolution(m)  |\n",
    "| ------------- |:-------------:| -----:|\n",
    "| Band 1 - Coastal aerosole        | 0.443 | 60 |\n",
    "| Band 2 - Blue      | 0.490      |   10 |\n",
    "| Band 3 - Green | 0.560      |    10 |\n",
    "| Band 4 - Red        | 0.665 | 10 |\n",
    "| Band 5 - Vegetation Red Edge      | 0.705      |   20 |\n",
    "| Band 6 - Vegetation Red Edge | 0.740      |    20 |\n",
    "| Band 7 - Vegetation Red Edge       | 0.783 | 20 |\n",
    "| Band 8 - NIR      | 0.842      |   10 |\n",
    "| Band 8A - Green | 0.865      |    20 |\n",
    "| Band 9 - Water vapour       | 0.945 | 60 |\n",
    "| Band 10 - SWIR - Cirrus      | 1.375      |   60 |\n",
    "| Band 11 - SWIR | 1.610      |    20 |\n",
    "| Band 12 - SWIR | 2.190      |    20 |\n",
    "\n",
    "### Landsat 8 Bands Description.    \n",
    "|    Sentinel2 Bands     | Central Wavelength(μm)           | Resolution(m)  |\n",
    "| ------------- |:-------------:| -----:|\n",
    "| Band 1 - Coastal aerosole        | 0.443 | 30 |\n",
    "| Band 2 - Blue      | 0.490      |   30 |\n",
    "| Band 3 - Green | 0.560      |    30 |\n",
    "| Band 4 - Red        | 0.665 | 30 |\n",
    "| Band 5 - NIR      | 0.842       |   30 |\n",
    "| Band 6 - SWIR 1 | 1.610      |    30 |\n",
    "| Band 7 - SWIR 2    | 2.190 | 30 |\n",
    "| Band 8 - Panchromatic      | 0.640     |   15 |\n",
    "| Band 9 - Cirrus       | 1.375 | 30 |\n",
    "| Band 10 - Thermal Infrared 1    |10.9      |   100 |\n",
    "| Band 11 - SWIR | 12.00      |    100 |\n",
    "\n",
    "Note: Usually the satellite data will be in two formats stacking all the bands into one file or one band for each file In thos example i am using stacking into one file.  "
   ]
  },
  {
   "cell_type": "code",
   "execution_count": null,
   "metadata": {},
   "outputs": [],
   "source": [
    "#read_band Function reads tif files(tif files are the ) and retuns the raster data in ndarry format.  \n",
    "def read_band(band,index):\n",
    "    with rio.open(band) as src:\n",
    "        band = src.read(index).astype('float64')\n",
    "    return band\n",
    "\n",
    "def ndvicalc(B8, B4):\n",
    "    ndvi = ((B8- B4) * 1.0) / ((B8+ B4) * 1.0)\n",
    "    ndvi = ndvi.astype(np.float32)\n",
    "    return ndvi\n",
    "\n",
    "def rgbcalc(red,green,blue):\n",
    "    rgb = np.dstack([(red/10000)*4, (green/10000)*4, (blue/10000)*4])\n",
    "    rgb = rgb.astype(np.float32)\n",
    "    return rgb\n",
    "\n",
    "\n",
    "#generatepng_ph function reads the raster data and generates image we use matplotlib to generate image. \n",
    "def generatepng_ndvi(values):\n",
    "    cmap = mpl.colors.ListedColormap([\"#A50026\", \"#D73027\", \"#F46D43\", \"#FDAE61\", \"#FEE08B\", \"#FFFFBF\", \"#D9EF8B\", \"#A6D96A\", \"#66BD63\", \"#1A9850\", \"#006837\"])\n",
    "    bounds = [0, 0.1, 0.2, 0.3, 0.4, 0.5, 0.6, 0.7, 0.8, 0.9, 1]\n",
    "    norm = mpl.colors.BoundaryNorm(bounds, cmap.N)\n",
    "    plt.imshow(values, cmap=cmap, norm=norm)\n",
    "    plt.axis('off')\n",
    "    plt.show()\n",
    "    return\n",
    "\n",
    "def generatepng_rgb(values):\n",
    "    plt.imshow(values)\n",
    "    plt.axis('off')\n",
    "    plt.show()\n",
    "    return\n",
    "\n"
   ]
  },
  {
   "cell_type": "code",
   "execution_count": null,
   "metadata": {
    "tags": []
   },
   "outputs": [],
   "source": [
    "date1 = \"./data/field1/2020-04-15_bands_clipped.tif\"\n",
    "B4 = read_band(date1,4)\n",
    "B3 = read_band(date1,3) \n",
    "B2 = read_band(date1,2)\n",
    "B8 = read_band(date1,8)\n",
    "ndvi = ndvicalc(B8,B4)\n",
    "generatepng_ndvi(ndvi)\n",
    "rgb = rgbcalc(B4,B3,B2)\n",
    "generatepng_rgb(rgb)"
   ]
  },
  {
   "cell_type": "code",
   "execution_count": null,
   "metadata": {
    "tags": []
   },
   "outputs": [],
   "source": [
    "date2 = \"./data/field1/2020-05-05_bands_clipped.tif\"\n",
    "B4 = read_band(date2,4)\n",
    "B3 = read_band(date2,3) \n",
    "B2 = read_band(date2,2)\n",
    "B8 = read_band(date2,8)\n",
    "ndvi2 = ndvicalc(B8,B4)\n",
    "rgb2 = rgbcalc(B4,B3,B2)\n",
    "generatepng_ndvi(ndvi2)\n",
    "generatepng_rgb(rgb2)"
   ]
  },
  {
   "cell_type": "code",
   "execution_count": null,
   "metadata": {},
   "outputs": [],
   "source": [
    "def generatepng_annomaly(values):\n",
    "    cmap = mpl.colors.ListedColormap([\"#A50026\",\"#000000\", \"#006837\"])\n",
    "    bounds = [-1,-0.0001,1]\n",
    "    norm = mpl.colors.BoundaryNorm(bounds, cmap.N)\n",
    "    plt.imshow(values, cmap=cmap, norm=norm)\n",
    "    plt.axis('off')\n",
    "    plt.show()\n",
    "    return"
   ]
  },
  {
   "cell_type": "code",
   "execution_count": null,
   "metadata": {},
   "outputs": [],
   "source": [
    "change = ndvi2 - ndvi\n",
    "generatepng_annomaly(change)"
   ]
  },
  {
   "cell_type": "code",
   "execution_count": null,
   "metadata": {},
   "outputs": [],
   "source": []
  }
 ]
}